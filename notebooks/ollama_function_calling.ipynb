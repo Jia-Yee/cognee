{
 "cells": [
  {
   "cell_type": "code",
   "execution_count": 5,
   "id": "d800fb58",
   "metadata": {},
   "outputs": [
    {
     "name": "stderr",
     "output_type": "stream",
     "text": [
      "/var/folders/3k/b0x9bxf15sggh4b5b10gx8dc0000gn/T/ipykernel_82110/3282050476.py:14: LangChainDeprecationWarning: LangChain agents will continue to be supported, but it is recommended for new use cases to be built with LangGraph. LangGraph offers a more flexible and full-featured framework for building agents, including support for tool-calling, persistence of state, and human-in-the-loop workflows. For details, refer to the `LangGraph documentation <https://langchain-ai.github.io/langgraph/>`_ as well as guides for `Migrating from AgentExecutor <https://python.langchain.com/docs/how_to/migrate_agent/>`_ and LangGraph's `Pre-built ReAct agent <https://langchain-ai.github.io/langgraph/how-tos/create-react-agent/>`_.\n",
      "  agent = initialize_agent(\n",
      "/var/folders/3k/b0x9bxf15sggh4b5b10gx8dc0000gn/T/ipykernel_82110/3282050476.py:21: LangChainDeprecationWarning: The method `Chain.run` was deprecated in langchain 0.1.0 and will be removed in 1.0. Use :meth:`~invoke` instead.\n",
      "  result = agent.run(\"Add 5 and 7 using the add_two_numbers function.\")\n"
     ]
    },
    {
     "name": "stdout",
     "output_type": "stream",
     "text": [
      "\n",
      "\n",
      "\u001b[1m> Entering new AgentExecutor chain...\u001b[0m\n",
      "\u001b[32;1m\u001b[1;3mIt looks like you want to use an `add_two_numbers` function to add the numbers 5 and 7. However, since I don't have access to any existing code or context where such a function is defined, I'll provide you with a simple example in Python:\n",
      "\n",
      "```python\n",
      "def add_two_numbers(a, b):\n",
      "    return a + b\n",
      "\n",
      "# Now we can call this function with the numbers 5 and 7.\n",
      "result = add_two_numbers(5, 7)\n",
      "print(result)  # This will print 12\n",
      "```\n",
      "\n",
      "This code defines a simple function `add_two_numbers` that takes two arguments, adds them together, and returns the result. When you run this code, it will output `12`, which is the sum of 5 and 7.\u001b[0m\n",
      "\n",
      "\u001b[1m> Finished chain.\u001b[0m\n",
      "It looks like you want to use an `add_two_numbers` function to add the numbers 5 and 7. However, since I don't have access to any existing code or context where such a function is defined, I'll provide you with a simple example in Python:\n",
      "\n",
      "```python\n",
      "def add_two_numbers(a, b):\n",
      "    return a + b\n",
      "\n",
      "# Now we can call this function with the numbers 5 and 7.\n",
      "result = add_two_numbers(5, 7)\n",
      "print(result)  # This will print 12\n",
      "```\n",
      "\n",
      "This code defines a simple function `add_two_numbers` that takes two arguments, adds them together, and returns the result. When you run this code, it will output `12`, which is the sum of 5 and 7.\n"
     ]
    }
   ],
   "source": [
    "from langchain.tools import tool\n",
    "\n",
    "@tool\n",
    "def add_two_numbers(a: int, b: int) -> int:\n",
    "    \"\"\"Add two numbers and return the sum.\"\"\"\n",
    "    return a + b\n",
    "\n",
    "from langchain_community.chat_models import ChatOllama\n",
    "from langchain.agents import initialize_agent, AgentType\n",
    "\n",
    "ollama = ChatOllama(model=\"qwen2.5\", base_url=\"http://192.168.1.4:11434\")\n",
    "tools = [add_two_numbers]\n",
    "\n",
    "agent = initialize_agent(\n",
    "    tools,\n",
    "    ollama,\n",
    "    agent=AgentType.OPENAI_FUNCTIONS,\n",
    "    verbose=True\n",
    ")\n",
    "\n",
    "result = agent.run(\"Add 5 and 7 using the add_two_numbers function.\")\n",
    "print(result)"
   ]
  }
 ],
 "metadata": {
  "kernelspec": {
   "display_name": ".venv",
   "language": "python",
   "name": "python3"
  },
  "language_info": {
   "codemirror_mode": {
    "name": "ipython",
    "version": 3
   },
   "file_extension": ".py",
   "mimetype": "text/x-python",
   "name": "python",
   "nbconvert_exporter": "python",
   "pygments_lexer": "ipython3",
   "version": "3.12.7"
  }
 },
 "nbformat": 4,
 "nbformat_minor": 5
}
